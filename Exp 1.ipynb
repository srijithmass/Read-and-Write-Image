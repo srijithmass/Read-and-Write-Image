{
 "cells": [
  {
   "cell_type": "code",
   "execution_count": null,
   "metadata": {},
   "outputs": [],
   "source": [
    "import cv2\n",
    "a = cv2.imread('ninja.jpg',1)\n",
    "cv2.imshow(\"SUPER BIKE\",a)\n",
    "cv2.waitKey(0)"
   ]
  },
  {
   "cell_type": "code",
   "execution_count": null,
   "metadata": {},
   "outputs": [],
   "source": [
    "import cv2\n",
    "colorImage = cv2.imread('ninja.jpg',1)\n",
    "cv2.imwrite('written.jpg',colorImage)\n",
    "writtenImage = cv2.imread('written.jpg',1)\n",
    "cv2.imshow('WrittenImage',writtenImage)\n",
    "cv2.waitKey(0)"
   ]
  },
  {
   "cell_type": "code",
   "execution_count": null,
   "metadata": {},
   "outputs": [],
   "source": [
    "import cv2 \n",
    "colorImage = cv2.imread('ninja.jpg',1)\n",
    "print(colorImage.shape)"
   ]
  },
  {
   "cell_type": "code",
   "execution_count": null,
   "metadata": {},
   "outputs": [],
   "source": [
    "import cv2\n",
    "import random\n",
    "colorImage = cv2.imread('ninja.jpg',1)\n",
    "for i in range(100):\n",
    "    for j in range(colorImage.shape[1]):\n",
    "        colorImage[i][j]=[random.randint(0,255),random.randint(0,255),random.randint(0,255)]\n",
    "cv2.imshow('to access rows and columns',colorImage)\n",
    "cv2.waitKey(0)"
   ]
  },
  {
   "cell_type": "code",
   "execution_count": null,
   "metadata": {},
   "outputs": [],
   "source": [
    "import cv2\n",
    "color_img = cv2.imread('ninja.jpg',1)\n",
    "tag = color_img[200:400,300:500]\n",
    "color_img[300:500,200:400] = tag\n",
    "cv2.imshow('Cut And Paste',color_img)\n",
    "cv2.waitKey(0)"
   ]
  }
 ],
 "metadata": {
  "language_info": {
   "name": "python"
  },
  "orig_nbformat": 4
 },
 "nbformat": 4,
 "nbformat_minor": 2
}
